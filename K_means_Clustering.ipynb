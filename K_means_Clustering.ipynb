{
 "cells": [
  {
   "cell_type": "markdown",
   "metadata": {},
   "source": [
    "# K-means Clustering\n",
    "---\n",
    "\n",
    "\n",
    "\n",
    "**Author:** Shreya Chawla\n",
    "    \n",
    "**Date:** 9th Dec 2020\n",
    "\n",
    "**Course:** [COMP6670](https://wattlecourses.anu.edu.au/course/view.php?id=31701) Introduction to Machine Learning, Australian National University\n",
    "\n",
    "**Course By:** [Dr. Liang Zheng](https://cecs.anu.edu.au/people/liang-zheng)\n",
    "\n",
    "**My Explanation:** Can be found [here](https://github.com/shreya888/Machine-Learning-in-Python/blob/main/K-means-Clustering.md).\n",
    "\n",
    "**Websites referred to:**\n",
    "1. https://stanford.edu/~cpiech/cs221/handouts/kmeans.html\n",
    "2. https://www.scikit-yb.org/en/latest/api/cluster/elbow.html\n",
    "3. https://stackoverflow.com/questions/25823608/find-matching-rows-in-2-dimensional-numpy-array\n",
    "4. https://medium.com/analytics-vidhya/comparison-of-initialization-strategies-for-k-means-d5ddd8b0350e\n",
    "5. https://stackoverflow.com/questions/9775297/append-a-numpy-array-to-a-numpy-array\n",
    "6. https://scikit-learn.org/stable/modules/generated/sklearn.cluster.KMeans.html\n",
    "7. https://towardsdatascience.com/understanding-k-means-k-means-and-k-medoids-clustering-algorithms-ad9c9fbf47ca"
   ]
  },
  {
   "cell_type": "markdown",
   "metadata": {},
   "source": [
    "## Task 0: Importing Libraries"
   ]
  },
  {
   "cell_type": "code",
   "execution_count": 1,
   "metadata": {},
   "outputs": [],
   "source": [
    "import numpy as np\n",
    "import matplotlib.pyplot as plt\n",
    "import math\n",
    "from IPython.core.display import HTML"
   ]
  },
  {
   "cell_type": "markdown",
   "metadata": {},
   "source": [
    "## Task 1: Clustering\n",
    "-----------\n",
    "The above online resources will help if unsure how to start. Else we are good to go.\n",
    "This code interprets how k-means is a specific case of a more general Expectation Maximisation algorithm. This is explained toward the end of [this](https://stanford.edu/~cpiech/cs221/handouts/kmeans.html) article.\n",
    "\n",
    "First, lets loading the dataset."
   ]
  },
  {
   "cell_type": "code",
   "execution_count": 2,
   "metadata": {
    "scrolled": true
   },
   "outputs": [
    {
     "data": {
      "image/png": "[encoded data removed]",
      "text/plain": [
       "<Figure size 432x288 with 1 Axes>"
      ]
     },
     "metadata": {
      "needs_background": "light"
     },
     "output_type": "display_data"
    }
   ],
   "source": [
    "X = np.load(\"./data.npy\")\n",
    "plt.scatter(X[:,0], X[:,1])\n",
    "plt.show()"
   ]
  },
  {
   "cell_type": "markdown",
   "metadata": {},
   "source": [
    "The dataset contains 1000 4-dimensional samples. However, we don't know how many centroids it contains. The number of centroids is more than 5 but less than 10. We need to figure it out in the clustering procedure.\n",
    "\n",
    "-----\n",
    "\n",
    "K-means is a special, simple case of the Expectation Maximisation (EM) algorithm.\n",
    "\n",
    "This simplified EM (k-means), is divided into two steps.\n",
    "\n",
    "The **E-Step**, where for every sample in your dataset you find which \"centroid\" that datapoint is closest to that sample, and record that information.\n",
    "\n",
    "The **M-Step**, where you move each \"centroid\" to the center of the samples which were found to be closest to it in the **E-Step**.\n",
    "\n",
    "Each *centroid* is simply an estimated mean of a cluster. If you have $1$ centroid, then this centroid will become the mean of all your data.\n",
    "\n",
    "If each of your samples, such as the 400 you generated in the previous question, are of dimension $n$, then each of your centroids will be of dimension $n$.\n",
    "\n",
    "Centroids are initially random values, and the k-means algorithm attempts to modify them so that each one represents the center of a cluster.\n",
    "\n",
    "---\n",
    "\n",
    "**TASK 2.1:** Write a function $initialise\\_parameters(m, n, X) = C$ which generates $m$ centroids, each of dimension $n$, and stores them in a matrix $C \\in \\mathbb{R}^{m \\times n}$.\n",
    "\n",
    "No two centroids should be the same, and **must not** be hard coded. Generate these parameters using a sensible initialisation method such as those described in the first link below. You will be judged based on whether the method you choose is sensible and likely to result in kmeans converging to good result.\n",
    "\n",
    "---\n",
    "\n",
    "**HINT:** \n",
    "- https://en.wikipedia.org/wiki/K-means_clustering#Initialization_methods\n",
    "- https://docs.scipy.org/doc/numpy-1.15.1/reference/generated/numpy.random.randint.html"
   ]
  },
  {
   "cell_type": "code",
   "execution_count": 3,
   "metadata": {
    "scrolled": true
   },
   "outputs": [
    {
     "name": "stdout",
     "output_type": "stream",
     "text": [
      "[[ 0.37750806  0.4773931   1.4734237   1.60591464]\n",
      " [ 0.25613997  0.22100056 -2.0508867  -2.44353477]]\n"
     ]
    }
   ],
   "source": [
    "# Implementing k means++ algorithm\n",
    "import sys\n",
    "def initialise_parameters(m, n, X):\n",
    "    C = []\n",
    "    # Choose the 1st centroid randomly from the datapoints in X\n",
    "    C.append(X[np.random.randint(X.shape[0])])\n",
    "    # For the next m-1 centroids, we need to choose them as far from the 1st as possible\n",
    "    for c_id in range(m-1):\n",
    "        dist = []\n",
    "        for i in range(X.shape[0]):\n",
    "            point = X[i, :]\n",
    "            # For every point in X, choose the min distance between\n",
    "            # sys.maxsize and euclidean distance of points from the centroids\n",
    "            d = sys.maxsize\n",
    "            for j in range(len(C)):\n",
    "                temp_dist = np.linalg.norm(point - C[j])\n",
    "                d = min(d, temp_dist)\n",
    "            dist.append(d)\n",
    "              \n",
    "        # Select data point with maximum distance from the 1st centroid as our next centroid\n",
    "        dist = np.array(dist)\n",
    "        next_centroid = X[np.argmax(dist)]\n",
    "        C.append(next_centroid)\n",
    "        dist = []  \n",
    "    return np.array(C)\n",
    "\n",
    "C = initialise_parameters(2, 4, X)\n",
    "print(C)"
   ]
  },
  {
   "cell_type": "markdown",
   "metadata": {},
   "source": [
    "Now we implement k-means.\n",
    "\n",
    "---\n",
    "   **TASK 2.2:** Create a function $E\\_step(C, X) = L$, where $L$ is a matrix of the same dimension of the dataset $X$.\n",
    "   \n",
    "   This function is is the **E-Step** (or \"assignment step\") mentioned earlier.\n",
    "\n",
    "---\n",
    "\n",
    "**HINT:** \n",
    "- https://stanford.edu/~cpiech/cs221/handouts/kmeans.html\n",
    "- https://en.wikipedia.org/wiki/K-means_clustering#Standard_algorithm\n",
    "- Each row of $L$ is a centroid taken from $C$."
   ]
  },
  {
   "cell_type": "code",
   "execution_count": 4,
   "metadata": {},
   "outputs": [
    {
     "data": {
      "image/png": "[encoded data removed]",
      "text/plain": [
       "<Figure size 432x288 with 1 Axes>"
      ]
     },
     "metadata": {
      "needs_background": "light"
     },
     "output_type": "display_data"
    }
   ],
   "source": [
    "def E_step(C, X):\n",
    "    L = np.zeros(X.shape)\n",
    "    for i in range(X.shape[0]):\n",
    "        dist = {}\n",
    "        # Finding distance from each centroid to each datapoint\n",
    "        for j in range(C.shape[0]):\n",
    "            dist.update({j: np.linalg.norm(X[i]-C[j])})\n",
    "        # Assign points with minimum distance from the centroids to one of the k clusters\n",
    "        idx = [key for key in dist if dist[key] == min(dist.values())]\n",
    "        L[i] = C[idx]\n",
    "    return L\n",
    "\n",
    "L = E_step(C, X)\n",
    "plt.scatter(L[:, 0], L[:, 1])\n",
    "plt.show()"
   ]
  },
  {
   "cell_type": "markdown",
   "metadata": {},
   "source": [
    "---\n",
    "\n",
    "**TASK 2.3:** Create a function $M\\_step(C, X, L) = C$ which returns $C$ modified so that each centroid in $C$ is placed in the middle of the samples assigned to it. This is the **M-Step**.\n",
    "\n",
    "In other words, make each centroid in $C$ the average of all the samples which were found to be closest to it during the **E-step**. This is also called the \"update step\" for K-means.\n",
    "\n",
    "---\n",
    "\n",
    "**HINT:** https://docs.scipy.org/doc/numpy/reference/generated/numpy.array_equal.html"
   ]
  },
  {
   "cell_type": "code",
   "execution_count": 5,
   "metadata": {
    "scrolled": true
   },
   "outputs": [
    {
     "data": {
      "text/plain": [
       "array([[-1.88726939e-02,  1.38785228e-02,  3.64994137e-01,\n",
       "         4.52829864e-01],\n",
       "       [ 1.13922636e-02,  1.13908033e-03, -1.02770169e+00,\n",
       "        -1.26930082e+00]])"
      ]
     },
     "execution_count": 5,
     "metadata": {},
     "output_type": "execute_result"
    }
   ],
   "source": [
    "def M_step(C, X, L):\n",
    "    # Updated centroid is the central point of each cluster\n",
    "    new_cluster = np.zeros(C.shape)\n",
    "    # Based on the distance, a new centroid is assigned to each cluster\n",
    "    for i in range(C.shape[0]):\n",
    "        cluster = np.where((L == C[i]).all(axis=1))[0]\n",
    "        if cluster.shape[0] > 0:\n",
    "            new_cluster[i] = sum(X[cluster])/cluster.shape[0]\n",
    "        else:\n",
    "            new_cluster[i] = C[i]\n",
    "    return new_cluster\n",
    "M_step(C,X,L)"
   ]
  },
  {
   "cell_type": "code",
   "execution_count": 6,
   "metadata": {},
   "outputs": [
    {
     "data": {
      "text/html": [
       "<div class=\"alert alert-block alert-success\">Centroids are valid!</div>"
      ],
      "text/plain": [
       "<IPython.core.display.HTML object>"
      ]
     },
     "execution_count": 6,
     "metadata": {},
     "output_type": "execute_result"
    }
   ],
   "source": [
    "C2 = np.array([[0,0],[1,0]])\n",
    "X2 = np.array([[0.1, 0.1], [0, 0.1], [0.1, 0], [0, 0]])\n",
    "L2 = np.array([[0, 0], [0, 0], [0, 0], [0, 0]])\n",
    "assert not np.any(np.isnan(M_step(C2, X2, L2))), \"Some centroids are nan\"\n",
    "HTML('<div class=\"alert alert-block alert-success\">Centroids are valid!</div>')"
   ]
  },
  {
   "cell_type": "markdown",
   "metadata": {},
   "source": [
    "---\n",
    "**TASK 2.4:** Implement $kmeans(X, m, i) = C, L$ which takes a dataset $X$ (of any dimension) and a scalar value $m$, and uses the previous 3 functions you wrote to:\n",
    "- generate $m$ centroids.\n",
    "- iterate between the E and M steps $i$ times (ie, it iterates $i$ times) to classify the $m$ clusters.\n",
    "\n",
    "...and then returns:\n",
    "- $C$, the centers of the $m$ clusters after $i$ iterations.\n",
    "- $L$, the labels (centroid values) assigned to each sample in the dataset after $i$ iterations.\n",
    "---"
   ]
  },
  {
   "cell_type": "code",
   "execution_count": 7,
   "metadata": {
    "scrolled": false
   },
   "outputs": [],
   "source": [
    "def kmeans(X, m, i):\n",
    "    \n",
    "    L = np.zeros(X.shape)\n",
    "    C = initialise_parameters(m, X.shape[1], X)\n",
    "    # Iterate over EM steps to find a locally optimal solution\n",
    "    while(i):\n",
    "        L = E_step(C, X)\n",
    "        C = M_step(C, X, L)\n",
    "        i -= 1\n",
    "    \n",
    "    return C, L"
   ]
  },
  {
   "cell_type": "markdown",
   "metadata": {},
   "source": [
    "---\n",
    "**Task 2.5:** The following code is to display the result. However, due to the limitation of our visualization tools, it can only presents the data in the two dimensional space. While the dimension of the dataset is 4, we really want to visualize the data in the two dimensional figure. Besides, the number of centroids is not determined yet.\n",
    "\n",
    "This task is ask you to modify the following code so as to give the best visualization effect. \n",
    "\n",
    "---\n",
    "**HINT:** You only need to change \"number of centroid\", \"dimension1\", \"dimension2\" to a number, which are quoted by \"#\" in the following code. "
   ]
  },
  {
   "cell_type": "code",
   "execution_count": 8,
   "metadata": {},
   "outputs": [
    {
     "name": "stdout",
     "output_type": "stream",
     "text": [
      "Initial Parameters:\n",
      "[[ 0.37750806  0.4773931   1.4734237   1.60591464]\n",
      " [ 0.25613997  0.22100056 -2.0508867  -2.44353477]]\n",
      "\n",
      "Final Parameters:\n",
      "[[-3.12595827e-02  7.66544119e-03  7.32444784e-01  7.23499116e-01]\n",
      " [ 1.80182894e-02 -2.84548382e-02 -1.73314207e+00 -1.74422749e+00]\n",
      " [-2.30938038e-02  1.71549863e-02  1.76052530e+00 -1.73716493e+00]\n",
      " [-1.08975530e-02  1.26213183e-02 -2.01514271e+00  1.74712290e+00]\n",
      " [-2.68311120e-03  1.72757846e-02  1.49565927e+00  1.75278340e+00]\n",
      " [-1.15362482e-03  3.56500354e-02 -5.02332315e-01 -7.41382419e-01]\n",
      " [-1.61647729e-02  2.54639072e-02  1.00871817e+00 -7.26380789e-01]\n",
      " [-2.05541611e-02 -2.94840798e-03 -7.34726213e-01  7.52580271e-01]]\n"
     ]
    },
    {
     "data": {
      "image/png": "[encoded data removed]",
      "text/plain": [
       "<Figure size 432x288 with 1 Axes>"
      ]
     },
     "metadata": {
      "needs_background": "light"
     },
     "output_type": "display_data"
    }
   ],
   "source": [
    "# With seed equal to 1, kmeans algorithm returns all seperated clusters,\n",
    "# else due to bad (random) initialization, the clusters are are messy\n",
    "np.random.seed(1)\n",
    "m = 8 #number of centroid\n",
    "i = 100 #number of iterations\n",
    "\n",
    "#CODE TO DISPLAY RESULTS\n",
    "C_final, L_final = kmeans(X, m, i)\n",
    "print('Initial Parameters:')\n",
    "print(C)\n",
    "print('\\nFinal Parameters:')\n",
    "print(C_final)\n",
    "\n",
    "def allocator(X, L, c):\n",
    "    cluster = []\n",
    "    for i in range(L.shape[0]):\n",
    "        if np.array_equal(L[i, :], c):\n",
    "            cluster.append(X[i, :])\n",
    "    return np.asarray(cluster)\n",
    "\n",
    "colours = ['r', 'g', 'b', 'y', 'c', 'm', 'k', 'lime', 'wheat', 'fuchsia', 'pink']\n",
    "for i in range(m):\n",
    "    cluster = allocator(X, L_final, C_final[i, :])\n",
    "    plt.scatter(cluster[:, 2],#dimension1#], \n",
    "                cluster[:, 3],#dimension2#], \n",
    "                c=colours[i])\n",
    "plt.show()"
   ]
  },
  {
   "cell_type": "markdown",
   "metadata": {},
   "source": [
    "---\n",
    "**TASK 2.6:** Use your own words to explain how you found the number of centroids in Task 2.5 and how you might do this in the real world.\n",
    "\n",
    "---"
   ]
  },
  {
   "cell_type": "markdown",
   "metadata": {},
   "source": [
    "Answer: \n",
    "1. Upon plotting the data X with the plot's x-axis as 2nd dimension and y-axis as 3rd dimension of X, it is clear that there are 8 different non-overlapping clusters. Since the data is 4 dimensional and is displayed in 2 dimensions only, hence some overlapping is viewed.\n",
    "2. In the real world, the elbow algorithm is used. The elbow method runs k-means clustering on the dataset for a range of values for k (say from 1-10) and then for each value of k computes an average score for all clusters. By default, the distortion score is computed, the sum of square distances from each point to its assigned center. The greatest k before the kink of the graph would be the ideal number of clusters.\n",
    "(The definition of the elbow method is from [sklearn documentation](https://www.scikit-yb.org/en/latest/api/cluster/elbow.html#:~:text=The%20elbow%20method%20runs%20k,point%20to%20its%20assigned%20center)."
   ]
  }
 ],
 "metadata": {
  "kernelspec": {
   "display_name": "Python 3",
   "language": "python",
   "name": "python3"
  },
  "language_info": {
   "codemirror_mode": {
    "name": "ipython",
    "version": 3
   },
   "file_extension": ".py",
   "mimetype": "text/x-python",
   "name": "python",
   "nbconvert_exporter": "python",
   "pygments_lexer": "ipython3",
   "version": "3.7.1"
  }
 },
 "nbformat": 4,
 "nbformat_minor": 2
}
